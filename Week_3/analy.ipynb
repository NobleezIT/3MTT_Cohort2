{
 "cells": [
  {
   "cell_type": "markdown",
   "metadata": {},
   "source": [
    "### Data Cleaning and Data Preprocessing Techniques\n",
    "Data preprocessing is the process of cleaning, transforming, and organizing raw \n",
    "\n",
    "data to make it suitable for analysis. It involves various steps, \n",
    "\n",
    "such as dealing with missing values, normalizing data, encoding categorical variables, and scaling features.\r\n",
    "\r\n",
    "In pandas, data preprocessing can be done through a variety of steps:\r\n",
    "\r\n",
    "1. **Handling Missing Values:**\r\n",
    "   - Replace with a value: `df.fillna(value)`\r\n",
    "   - Drop rows/columns with missing values: `df.dropna()`\r\n",
    "\r\n",
    "2. **Encoding Categorical Data:**\r\n",
    "   - Convert categorical values to numerical: `pd.get_dummies(df['column'])` or using `LabelEncoder`\r\n",
    "\r\n",
    "3. **Scaling Data:**\r\n",
    "   - Normalizing columns: `(df['column'] - df['column'].mean()) / df['column'].std()`\r\n",
    "   - Using scikit-learn's `StandardScaler` with pandas for standardization\r\n",
    "\r\n",
    "4. **Removing Duplicates:**\r\n",
    "   - `df.drop_duplicates()`\r\n",
    "\r\n",
    "5. **Renaming Columns:**\r\n",
    "   - `df.rename(columns={'old_name': 'new_name'})`\r\n",
    "\r\n",
    "6. **Feature Engineering:**\r\n",
    "   - Create new columns by combining or transforming existing ones: `df['new_column'] = df['col1'] + df['col2']`\r\n",
    "\r\n",
    "These are some common steps, but the exact process depends on the dataset and problem requirements."
   ]
  },
  {
   "cell_type": "markdown",
   "metadata": {},
   "source": [
    "## Exploratory Data Analysis (EDA)\n",
    "\n",
    "EDA helps you understand the structure and characteristics of your dataset. Some Pandas functions help us gain insights into our dataset. We call these functions by calling the dataset variable plus the function.\n",
    "\n",
    "For example:\n",
    "\n",
    "df.head() will call the first 5 rows of the dataset. You can specify the number of rows to be displayed in the parentheses.\n",
    "\n",
    "df.describe() gives some statistical data like percentile, mean and standard deviation of the numerical values of the Series or DataFrame.\n",
    "\n",
    "df.info() gives the number of columns, column labels, column data types, memory usage, range index, and the number of cells in each column (non-null values)."
   ]
  },
  {
   "cell_type": "code",
   "execution_count": 40,
   "metadata": {},
   "outputs": [],
   "source": [
    "import pandas as pd"
   ]
  },
  {
   "cell_type": "code",
   "execution_count": null,
   "metadata": {},
   "outputs": [],
   "source": [
    "data = \"https://github.com/NobleezIT/3MTT_Cohort2/blob/main/Week_3/customer.csv?raw=true\"\n",
    "df = pd.read_csv(data)"
   ]
  },
  {
   "cell_type": "code",
   "execution_count": 56,
   "metadata": {},
   "outputs": [
    {
     "data": {
      "text/html": [
       "<div>\n",
       "<style scoped>\n",
       "    .dataframe tbody tr th:only-of-type {\n",
       "        vertical-align: middle;\n",
       "    }\n",
       "\n",
       "    .dataframe tbody tr th {\n",
       "        vertical-align: top;\n",
       "    }\n",
       "\n",
       "    .dataframe thead th {\n",
       "        text-align: right;\n",
       "    }\n",
       "</style>\n",
       "<table border=\"1\" class=\"dataframe\">\n",
       "  <thead>\n",
       "    <tr style=\"text-align: right;\">\n",
       "      <th></th>\n",
       "      <th>CUST_NAME</th>\n",
       "      <th>Gender_Code</th>\n",
       "      <th>ADDRESS1</th>\n",
       "      <th>CITY</th>\n",
       "      <th>STATE</th>\n",
       "      <th>COUNTRY_CODE</th>\n",
       "      <th>POSTAL_CODE</th>\n",
       "      <th>POSTAL_CODE_PLUS4</th>\n",
       "      <th>ADDRESS2</th>\n",
       "      <th>EMAIL_ADDRESS</th>\n",
       "      <th>...</th>\n",
       "      <th>Unnamed: 62</th>\n",
       "      <th>Unnamed: 63</th>\n",
       "      <th>Unnamed: 64</th>\n",
       "      <th>Unnamed: 65</th>\n",
       "      <th>Unnamed: 66</th>\n",
       "      <th>Unnamed: 67</th>\n",
       "      <th>Unnamed: 68</th>\n",
       "      <th>Unnamed: 69</th>\n",
       "      <th>Unnamed: 70</th>\n",
       "      <th>Unnamed: 71</th>\n",
       "    </tr>\n",
       "  </thead>\n",
       "  <tbody>\n",
       "    <tr>\n",
       "      <th>0</th>\n",
       "      <td>Allen Perl</td>\n",
       "      <td>Mr.</td>\n",
       "      <td>4707    Hillcrest Lane</td>\n",
       "      <td>Abeto</td>\n",
       "      <td>PG</td>\n",
       "      <td>IT</td>\n",
       "      <td>6040</td>\n",
       "      <td>0.0</td>\n",
       "      <td>NaN</td>\n",
       "      <td>Allen.M.Perl@spambob.com</td>\n",
       "      <td>...</td>\n",
       "      <td>NaN</td>\n",
       "      <td>NaN</td>\n",
       "      <td>NaN</td>\n",
       "      <td>NaN</td>\n",
       "      <td>NaN</td>\n",
       "      <td>NaN</td>\n",
       "      <td>NaN</td>\n",
       "      <td>NaN</td>\n",
       "      <td>NaN</td>\n",
       "      <td>NaN</td>\n",
       "    </tr>\n",
       "    <tr>\n",
       "      <th>1</th>\n",
       "      <td>Allen Perl</td>\n",
       "      <td>Mr.</td>\n",
       "      <td>4707    Hillcrest Lane</td>\n",
       "      <td>Abeto</td>\n",
       "      <td>PG</td>\n",
       "      <td>IT</td>\n",
       "      <td>6040</td>\n",
       "      <td>0.0</td>\n",
       "      <td>NaN</td>\n",
       "      <td>Allen.M.Perl@spambob.com</td>\n",
       "      <td>...</td>\n",
       "      <td>NaN</td>\n",
       "      <td>NaN</td>\n",
       "      <td>NaN</td>\n",
       "      <td>NaN</td>\n",
       "      <td>NaN</td>\n",
       "      <td>NaN</td>\n",
       "      <td>NaN</td>\n",
       "      <td>NaN</td>\n",
       "      <td>NaN</td>\n",
       "      <td>NaN</td>\n",
       "    </tr>\n",
       "    <tr>\n",
       "      <th>2</th>\n",
       "      <td>Allen Perl</td>\n",
       "      <td>Mr.</td>\n",
       "      <td>4707    Hillcrest Lane</td>\n",
       "      <td>Abeto</td>\n",
       "      <td>PG</td>\n",
       "      <td>IT</td>\n",
       "      <td>6040</td>\n",
       "      <td>0.0</td>\n",
       "      <td>NaN</td>\n",
       "      <td>Allen.M.Perl@spambob.com</td>\n",
       "      <td>...</td>\n",
       "      <td>NaN</td>\n",
       "      <td>NaN</td>\n",
       "      <td>NaN</td>\n",
       "      <td>NaN</td>\n",
       "      <td>NaN</td>\n",
       "      <td>NaN</td>\n",
       "      <td>NaN</td>\n",
       "      <td>NaN</td>\n",
       "      <td>NaN</td>\n",
       "      <td>NaN</td>\n",
       "    </tr>\n",
       "    <tr>\n",
       "      <th>3</th>\n",
       "      <td>Allen Perl</td>\n",
       "      <td>Mr.</td>\n",
       "      <td>4707    Hillcrest Lane</td>\n",
       "      <td>Abeto</td>\n",
       "      <td>PG</td>\n",
       "      <td>IT</td>\n",
       "      <td>6040</td>\n",
       "      <td>0.0</td>\n",
       "      <td>NaN</td>\n",
       "      <td>Allen.M.Perl@spambob.com</td>\n",
       "      <td>...</td>\n",
       "      <td>NaN</td>\n",
       "      <td>NaN</td>\n",
       "      <td>NaN</td>\n",
       "      <td>NaN</td>\n",
       "      <td>NaN</td>\n",
       "      <td>NaN</td>\n",
       "      <td>NaN</td>\n",
       "      <td>NaN</td>\n",
       "      <td>NaN</td>\n",
       "      <td>NaN</td>\n",
       "    </tr>\n",
       "    <tr>\n",
       "      <th>4</th>\n",
       "      <td>Allen Perl</td>\n",
       "      <td>Mr.</td>\n",
       "      <td>4707    Hillcrest Lane</td>\n",
       "      <td>Abeto</td>\n",
       "      <td>PG</td>\n",
       "      <td>IT</td>\n",
       "      <td>6040</td>\n",
       "      <td>0.0</td>\n",
       "      <td>NaN</td>\n",
       "      <td>Allen.M.Perl@spambob.com</td>\n",
       "      <td>...</td>\n",
       "      <td>NaN</td>\n",
       "      <td>NaN</td>\n",
       "      <td>NaN</td>\n",
       "      <td>NaN</td>\n",
       "      <td>NaN</td>\n",
       "      <td>NaN</td>\n",
       "      <td>NaN</td>\n",
       "      <td>NaN</td>\n",
       "      <td>NaN</td>\n",
       "      <td>NaN</td>\n",
       "    </tr>\n",
       "    <tr>\n",
       "      <th>...</th>\n",
       "      <td>...</td>\n",
       "      <td>...</td>\n",
       "      <td>...</td>\n",
       "      <td>...</td>\n",
       "      <td>...</td>\n",
       "      <td>...</td>\n",
       "      <td>...</td>\n",
       "      <td>...</td>\n",
       "      <td>...</td>\n",
       "      <td>...</td>\n",
       "      <td>...</td>\n",
       "      <td>...</td>\n",
       "      <td>...</td>\n",
       "      <td>...</td>\n",
       "      <td>...</td>\n",
       "      <td>...</td>\n",
       "      <td>...</td>\n",
       "      <td>...</td>\n",
       "      <td>...</td>\n",
       "      <td>...</td>\n",
       "      <td>...</td>\n",
       "    </tr>\n",
       "    <tr>\n",
       "      <th>199</th>\n",
       "      <td>Rebecca Uresti</td>\n",
       "      <td>Mrs.</td>\n",
       "      <td>4333 Morningview Lane</td>\n",
       "      <td>Birmingham</td>\n",
       "      <td>AL</td>\n",
       "      <td>US</td>\n",
       "      <td>35203</td>\n",
       "      <td>0.0</td>\n",
       "      <td>NaN</td>\n",
       "      <td>Rebecca.C.Uresti@trashymail.com</td>\n",
       "      <td>...</td>\n",
       "      <td>NaN</td>\n",
       "      <td>NaN</td>\n",
       "      <td>NaN</td>\n",
       "      <td>NaN</td>\n",
       "      <td>NaN</td>\n",
       "      <td>NaN</td>\n",
       "      <td>NaN</td>\n",
       "      <td>NaN</td>\n",
       "      <td>NaN</td>\n",
       "      <td>NaN</td>\n",
       "    </tr>\n",
       "    <tr>\n",
       "      <th>200</th>\n",
       "      <td>Emma Perez</td>\n",
       "      <td>Mrs.</td>\n",
       "      <td>1199 Lightning Point Drive</td>\n",
       "      <td>Black Hawk</td>\n",
       "      <td>SD</td>\n",
       "      <td>US</td>\n",
       "      <td>57718</td>\n",
       "      <td>0.0</td>\n",
       "      <td>NaN</td>\n",
       "      <td>Emma.V.Perez@spambob.com</td>\n",
       "      <td>...</td>\n",
       "      <td>NaN</td>\n",
       "      <td>NaN</td>\n",
       "      <td>NaN</td>\n",
       "      <td>NaN</td>\n",
       "      <td>NaN</td>\n",
       "      <td>NaN</td>\n",
       "      <td>NaN</td>\n",
       "      <td>NaN</td>\n",
       "      <td>NaN</td>\n",
       "      <td>NaN</td>\n",
       "    </tr>\n",
       "    <tr>\n",
       "      <th>201</th>\n",
       "      <td>Reynaldo Myers</td>\n",
       "      <td>Mr.</td>\n",
       "      <td>3923 Black Stallion Road</td>\n",
       "      <td>Blaxland East</td>\n",
       "      <td>NSW</td>\n",
       "      <td>AU</td>\n",
       "      <td>2774</td>\n",
       "      <td>0.0</td>\n",
       "      <td>NaN</td>\n",
       "      <td>Reynaldo.J.Myers@pookmail.com</td>\n",
       "      <td>...</td>\n",
       "      <td>NaN</td>\n",
       "      <td>NaN</td>\n",
       "      <td>NaN</td>\n",
       "      <td>NaN</td>\n",
       "      <td>NaN</td>\n",
       "      <td>NaN</td>\n",
       "      <td>NaN</td>\n",
       "      <td>NaN</td>\n",
       "      <td>NaN</td>\n",
       "      <td>NaN</td>\n",
       "    </tr>\n",
       "    <tr>\n",
       "      <th>202</th>\n",
       "      <td>Reynaldo Myers</td>\n",
       "      <td>Mr.</td>\n",
       "      <td>3923 Black Stallion Road</td>\n",
       "      <td>Blaxland East</td>\n",
       "      <td>NSW</td>\n",
       "      <td>AU</td>\n",
       "      <td>2774</td>\n",
       "      <td>0.0</td>\n",
       "      <td>NaN</td>\n",
       "      <td>Reynaldo.J.Myers@pookmail.com</td>\n",
       "      <td>...</td>\n",
       "      <td>NaN</td>\n",
       "      <td>NaN</td>\n",
       "      <td>NaN</td>\n",
       "      <td>NaN</td>\n",
       "      <td>NaN</td>\n",
       "      <td>NaN</td>\n",
       "      <td>NaN</td>\n",
       "      <td>NaN</td>\n",
       "      <td>NaN</td>\n",
       "      <td>NaN</td>\n",
       "    </tr>\n",
       "    <tr>\n",
       "      <th>203</th>\n",
       "      <td>Jennifer Becker</td>\n",
       "      <td>Mrs.</td>\n",
       "      <td>4374 Lindale Avenue</td>\n",
       "      <td>Bloomington</td>\n",
       "      <td>IL</td>\n",
       "      <td>US</td>\n",
       "      <td>61701</td>\n",
       "      <td>0.0</td>\n",
       "      <td>NaN</td>\n",
       "      <td>Jennifer.D.Becker@spambob.com</td>\n",
       "      <td>...</td>\n",
       "      <td>NaN</td>\n",
       "      <td>NaN</td>\n",
       "      <td>NaN</td>\n",
       "      <td>NaN</td>\n",
       "      <td>NaN</td>\n",
       "      <td>NaN</td>\n",
       "      <td>NaN</td>\n",
       "      <td>NaN</td>\n",
       "      <td>NaN</td>\n",
       "      <td>NaN</td>\n",
       "    </tr>\n",
       "  </tbody>\n",
       "</table>\n",
       "<p>204 rows × 72 columns</p>\n",
       "</div>"
      ],
      "text/plain": [
       "                CUST_NAME Gender_Code                    ADDRESS1  \\\n",
       "0    Allen Perl                   Mr.      4707    Hillcrest Lane   \n",
       "1    Allen Perl                   Mr.      4707    Hillcrest Lane   \n",
       "2    Allen Perl                   Mr.      4707    Hillcrest Lane   \n",
       "3    Allen Perl                   Mr.      4707    Hillcrest Lane   \n",
       "4    Allen Perl                   Mr.      4707    Hillcrest Lane   \n",
       "..                    ...         ...                         ...   \n",
       "199  Rebecca Uresti              Mrs.       4333 Morningview Lane   \n",
       "200  Emma Perez                  Mrs.  1199 Lightning Point Drive   \n",
       "201  Reynaldo Myers               Mr.    3923 Black Stallion Road   \n",
       "202  Reynaldo Myers               Mr.    3923 Black Stallion Road   \n",
       "203  Jennifer Becker             Mrs.         4374 Lindale Avenue   \n",
       "\n",
       "              CITY STATE COUNTRY_CODE POSTAL_CODE  POSTAL_CODE_PLUS4  \\\n",
       "0            Abeto    PG           IT        6040                0.0   \n",
       "1            Abeto    PG           IT        6040                0.0   \n",
       "2            Abeto    PG           IT        6040                0.0   \n",
       "3            Abeto    PG           IT        6040                0.0   \n",
       "4            Abeto    PG           IT        6040                0.0   \n",
       "..             ...   ...          ...         ...                ...   \n",
       "199     Birmingham    AL           US       35203                0.0   \n",
       "200     Black Hawk    SD           US       57718                0.0   \n",
       "201  Blaxland East   NSW           AU        2774                0.0   \n",
       "202  Blaxland East   NSW           AU        2774                0.0   \n",
       "203    Bloomington    IL           US       61701                0.0   \n",
       "\n",
       "     ADDRESS2                    EMAIL_ADDRESS  ... Unnamed: 62 Unnamed: 63  \\\n",
       "0         NaN         Allen.M.Perl@spambob.com  ...         NaN         NaN   \n",
       "1         NaN         Allen.M.Perl@spambob.com  ...         NaN         NaN   \n",
       "2         NaN         Allen.M.Perl@spambob.com  ...         NaN         NaN   \n",
       "3         NaN         Allen.M.Perl@spambob.com  ...         NaN         NaN   \n",
       "4         NaN         Allen.M.Perl@spambob.com  ...         NaN         NaN   \n",
       "..        ...                              ...  ...         ...         ...   \n",
       "199       NaN  Rebecca.C.Uresti@trashymail.com  ...         NaN         NaN   \n",
       "200       NaN         Emma.V.Perez@spambob.com  ...         NaN         NaN   \n",
       "201       NaN    Reynaldo.J.Myers@pookmail.com  ...         NaN         NaN   \n",
       "202       NaN    Reynaldo.J.Myers@pookmail.com  ...         NaN         NaN   \n",
       "203       NaN    Jennifer.D.Becker@spambob.com  ...         NaN         NaN   \n",
       "\n",
       "     Unnamed: 64 Unnamed: 65 Unnamed: 66 Unnamed: 67  Unnamed: 68  \\\n",
       "0            NaN         NaN         NaN         NaN          NaN   \n",
       "1            NaN         NaN         NaN         NaN          NaN   \n",
       "2            NaN         NaN         NaN         NaN          NaN   \n",
       "3            NaN         NaN         NaN         NaN          NaN   \n",
       "4            NaN         NaN         NaN         NaN          NaN   \n",
       "..           ...         ...         ...         ...          ...   \n",
       "199          NaN         NaN         NaN         NaN          NaN   \n",
       "200          NaN         NaN         NaN         NaN          NaN   \n",
       "201          NaN         NaN         NaN         NaN          NaN   \n",
       "202          NaN         NaN         NaN         NaN          NaN   \n",
       "203          NaN         NaN         NaN         NaN          NaN   \n",
       "\n",
       "     Unnamed: 69  Unnamed: 70  Unnamed: 71  \n",
       "0            NaN          NaN          NaN  \n",
       "1            NaN          NaN          NaN  \n",
       "2            NaN          NaN          NaN  \n",
       "3            NaN          NaN          NaN  \n",
       "4            NaN          NaN          NaN  \n",
       "..           ...          ...          ...  \n",
       "199          NaN          NaN          NaN  \n",
       "200          NaN          NaN          NaN  \n",
       "201          NaN          NaN          NaN  \n",
       "202          NaN          NaN          NaN  \n",
       "203          NaN          NaN          NaN  \n",
       "\n",
       "[204 rows x 72 columns]"
      ]
     },
     "execution_count": 56,
     "metadata": {},
     "output_type": "execute_result"
    }
   ],
   "source": [
    "# Loading the Data\n",
    "df = pd.read_csv(r\"C:\\Users\\abula\\Desktop\\dataanalytics\\Week_3\\customer.csv\")\n",
    "df"
   ]
  },
  {
   "cell_type": "code",
   "execution_count": 58,
   "metadata": {},
   "outputs": [
    {
     "name": "stdout",
     "output_type": "stream",
     "text": [
      "<class 'pandas.core.frame.DataFrame'>\n",
      "RangeIndex: 204 entries, 0 to 203\n",
      "Data columns (total 72 columns):\n",
      " #   Column               Non-Null Count  Dtype  \n",
      "---  ------               --------------  -----  \n",
      " 0   CUST_NAME            199 non-null    object \n",
      " 1   Gender_Code          199 non-null    object \n",
      " 2   ADDRESS1             199 non-null    object \n",
      " 3   CITY                 199 non-null    object \n",
      " 4   STATE                163 non-null    object \n",
      " 5   COUNTRY_CODE         199 non-null    object \n",
      " 6   POSTAL_CODE          199 non-null    object \n",
      " 7   POSTAL_CODE_PLUS4    199 non-null    float64\n",
      " 8   ADDRESS2             0 non-null      float64\n",
      " 9   EMAIL_ADDRESS        199 non-null    object \n",
      " 10  PHONE_NUMBER         199 non-null    object \n",
      " 11  CREDITCARD_TYPE      199 non-null    object \n",
      " 12  LOCALITY             0 non-null      float64\n",
      " 13  SALESMAN_ID          199 non-null    object \n",
      " 14  NATIONALITY          199 non-null    object \n",
      " 15  NATIONAL_ID          199 non-null    object \n",
      " 16  CREDITCARD_NUMBER    199 non-null    float64\n",
      " 17  DRIVER_LICENSE       0 non-null      float64\n",
      " 18  CUST_ID              199 non-null    float64\n",
      " 19  ORDER_ID             199 non-null    float64\n",
      " 20  ORDER_DATE           199 non-null    object \n",
      " 21  ORDER_TIME           199 non-null    object \n",
      " 22  FREIGHT_CHARGES      199 non-null    float64\n",
      " 23  ORDER_SALESMAN       199 non-null    object \n",
      " 24  ORDER_POSTED_DATE    199 non-null    object \n",
      " 25  ORDER_SHIP_DATE      199 non-null    object \n",
      " 26  AGE                  175 non-null    object \n",
      " 27  ORDER_VALUE          199 non-null    float64\n",
      " 28  T_TYPE               199 non-null    object \n",
      " 29  PURCHASE_TOUCHPOINT  199 non-null    object \n",
      " 30  PURCHASE_STATUS      199 non-null    object \n",
      " 31  ORDER_TYPE           199 non-null    object \n",
      " 32  GENERATION           199 non-null    object \n",
      " 33  Baby Food            199 non-null    float64\n",
      " 34  Diapers              199 non-null    float64\n",
      " 35  Formula              199 non-null    float64\n",
      " 36  Lotion               199 non-null    float64\n",
      " 37  Baby wash            199 non-null    float64\n",
      " 38  Wipes                199 non-null    float64\n",
      " 39  Fresh Fruits         199 non-null    float64\n",
      " 40  Fresh Vegetables     199 non-null    float64\n",
      " 41  Beer                 199 non-null    float64\n",
      " 42  Wine                 199 non-null    float64\n",
      " 43  Club Soda            199 non-null    float64\n",
      " 44  Sports Drink         199 non-null    float64\n",
      " 45  Chips                199 non-null    float64\n",
      " 46  Popcorn              199 non-null    float64\n",
      " 47  Oatmeal              199 non-null    float64\n",
      " 48  Medicines            199 non-null    float64\n",
      " 49  Canned Foods         199 non-null    float64\n",
      " 50  Cigarettes           199 non-null    float64\n",
      " 51  Cheese               199 non-null    float64\n",
      " 52  Cleaning Products    199 non-null    float64\n",
      " 53  Condiments           199 non-null    float64\n",
      " 54  Frozen Foods         199 non-null    float64\n",
      " 55  Kitchen Items        199 non-null    float64\n",
      " 56  Meat                 199 non-null    float64\n",
      " 57  Office Supplies      199 non-null    float64\n",
      " 58  Personal Care        199 non-null    float64\n",
      " 59  Pet Supplies         199 non-null    float64\n",
      " 60  Sea Food             199 non-null    float64\n",
      " 61  Spices               199 non-null    float64\n",
      " 62  Unnamed: 62          0 non-null      float64\n",
      " 63  Unnamed: 63          0 non-null      float64\n",
      " 64  Unnamed: 64          0 non-null      float64\n",
      " 65  Unnamed: 65          0 non-null      float64\n",
      " 66  Unnamed: 66          0 non-null      float64\n",
      " 67  Unnamed: 67          0 non-null      float64\n",
      " 68  Unnamed: 68          0 non-null      float64\n",
      " 69  Unnamed: 69          0 non-null      float64\n",
      " 70  Unnamed: 70          0 non-null      float64\n",
      " 71  Unnamed: 71          0 non-null      float64\n",
      "dtypes: float64(48), object(24)\n",
      "memory usage: 114.9+ KB\n"
     ]
    }
   ],
   "source": [
    "df.info()"
   ]
  },
  {
   "cell_type": "code",
   "execution_count": 65,
   "metadata": {},
   "outputs": [],
   "source": [
    "df = df.dropna(axis=1, how='all')"
   ]
  },
  {
   "cell_type": "markdown",
   "metadata": {},
   "source": [
    "### What is Data Cleaning\n",
    "Data cleaning involves identifying and rectifying errors, inconsistencies, \n",
    "\n",
    "and missing values within a dataset. It's like preparing your ingredients \n",
    "\n",
    "before cooking; you want everything in order to get the perfect analysis or visualization.\n",
    "\n",
    "Data cleaning is the initial phase of refining your dataset, \n",
    "\n",
    "making it readable and usable with techniques like removing duplicates, \n",
    "\n",
    "handling missing values and data type conversion while data preprocessing is \n",
    "\n",
    "similar to taking this refined data and scaling with more advanced \n",
    "\n",
    "techniques such as feature engineering, encoding categorical \n",
    "\n",
    "variables and and handling outliers to achieve better and more advanced results.\n",
    "\n",
    "The goal is to turn your dataset into a refined masterpiece, ready for analysis or modeling.\n"
   ]
  },
  {
   "cell_type": "markdown",
   "metadata": {},
   "source": [
    "### How to Handle Missing Values\n",
    "As a newbie in this field, missing values pose a significant stress as they come in different formats and can adversely impact your analysis or model.\n",
    "\n",
    "Machine learning models cannot be trained with data that has missing or \"NAN\" values as they can alter your end result during analysis. But do not fret, Pandas provides methods to handle this problem."
   ]
  },
  {
   "cell_type": "code",
   "execution_count": 67,
   "metadata": {},
   "outputs": [
    {
     "name": "stdout",
     "output_type": "stream",
     "text": [
      "CUST_NAME               5\n",
      "Gender_Code             5\n",
      "ADDRESS1                5\n",
      "CITY                    5\n",
      "STATE                  41\n",
      "COUNTRY_CODE            5\n",
      "POSTAL_CODE             5\n",
      "POSTAL_CODE_PLUS4       5\n",
      "EMAIL_ADDRESS           5\n",
      "PHONE_NUMBER            5\n",
      "CREDITCARD_TYPE         5\n",
      "SALESMAN_ID             5\n",
      "NATIONALITY             5\n",
      "NATIONAL_ID             5\n",
      "CREDITCARD_NUMBER       5\n",
      "CUST_ID                 5\n",
      "ORDER_ID                5\n",
      "ORDER_DATE              5\n",
      "ORDER_TIME              5\n",
      "FREIGHT_CHARGES         5\n",
      "ORDER_SALESMAN          5\n",
      "ORDER_POSTED_DATE       5\n",
      "ORDER_SHIP_DATE         5\n",
      "AGE                    29\n",
      "ORDER_VALUE             5\n",
      "T_TYPE                  5\n",
      "PURCHASE_TOUCHPOINT     5\n",
      "PURCHASE_STATUS         5\n",
      "ORDER_TYPE              5\n",
      "GENERATION              5\n",
      "Baby Food               5\n",
      "Diapers                 5\n",
      "Formula                 5\n",
      "Lotion                  5\n",
      "Baby wash               5\n",
      "Wipes                   5\n",
      "Fresh Fruits            5\n",
      "Fresh Vegetables        5\n",
      "Beer                    5\n",
      "Wine                    5\n",
      "Club Soda               5\n",
      "Sports Drink            5\n",
      "Chips                   5\n",
      "Popcorn                 5\n",
      "Oatmeal                 5\n",
      "Medicines               5\n",
      "Canned Foods            5\n",
      "Cigarettes              5\n",
      "Cheese                  5\n",
      "Cleaning Products       5\n",
      "Condiments              5\n",
      "Frozen Foods            5\n",
      "Kitchen Items           5\n",
      "Meat                    5\n",
      "Office Supplies         5\n",
      "Personal Care           5\n",
      "Pet Supplies            5\n",
      "Sea Food                5\n",
      "Spices                  5\n",
      "dtype: int64\n"
     ]
    }
   ],
   "source": [
    "#Check for missing values\n",
    "print(df.isnull().sum())\n",
    "\n",
    "#Drop rows with missing valiues and place it in a new variable \"df_cleaned\"\n",
    "# df_cleaned = df.dropna()\n",
    "\n",
    "#Fill missing values with mean for numerical data and place it ina new variable called df_filled\n",
    "# df_filled = df.fillna(df.mean())\n",
    "# We would come back to this"
   ]
  },
  {
   "cell_type": "markdown",
   "metadata": {},
   "source": [
    "But if the number of rows that have missing values is large, then this method will be inadequate.\n",
    "\n",
    "For numerical data, you can simply compute the mean and input it into the rows that have missing values. Code snippet below:"
   ]
  },
  {
   "cell_type": "code",
   "execution_count": 69,
   "metadata": {},
   "outputs": [
    {
     "data": {
      "text/plain": [
       "29"
      ]
     },
     "execution_count": 69,
     "metadata": {},
     "output_type": "execute_result"
    }
   ],
   "source": [
    "df['AGE'].isnull().sum()"
   ]
  },
  {
   "cell_type": "code",
   "execution_count": null,
   "metadata": {},
   "outputs": [],
   "source": [
    "df['AGE'].fillna(df['AGE'].mean(), inplace=True)"
   ]
  },
  {
   "cell_type": "code",
   "execution_count": null,
   "metadata": {},
   "outputs": [],
   "source": [
    "#Replace missing values with the mean of each column\n",
    "df.age.fillna(df.age.mean(), inplace=True)\n",
    "df.fillna\n",
    "#If you want to replace missing values in a specific column, you can do it this way:\n",
    "#Replace 'column_name' with the actual column name\n",
    "df['column_name'].fillna(df['column_name'].mean(), inplace=True)\n",
    "\n",
    "#Now, df contains no missing values, and NaNs have been replaced with column mean"
   ]
  },
  {
   "cell_type": "markdown",
   "metadata": {},
   "source": [
    "### How to Remove Duplicate Records\n",
    "\n",
    "Duplicate records can distort your analysis by influencing the results in ways that do not accurately show trends and underlying patterns (by producing outliers).\n",
    "\n",
    "Pandas helps to identify and remove the duplicate values in an easy way by placing them in new variables."
   ]
  },
  {
   "cell_type": "code",
   "execution_count": 85,
   "metadata": {},
   "outputs": [
    {
     "name": "stdout",
     "output_type": "stream",
     "text": [
      "9\n"
     ]
    }
   ],
   "source": [
    "#Identify duplicates\n",
    "print(df.duplicated().sum())\n",
    "\n",
    "#Remove duplicates\n",
    "df1 = df.drop_duplicates()"
   ]
  },
  {
   "cell_type": "code",
   "execution_count": 89,
   "metadata": {},
   "outputs": [
    {
     "name": "stdout",
     "output_type": "stream",
     "text": [
      "<class 'pandas.core.frame.DataFrame'>\n",
      "Index: 195 entries, 0 to 203\n",
      "Data columns (total 59 columns):\n",
      " #   Column               Non-Null Count  Dtype  \n",
      "---  ------               --------------  -----  \n",
      " 0   CUST_NAME            194 non-null    object \n",
      " 1   Gender_Code          194 non-null    object \n",
      " 2   ADDRESS1             194 non-null    object \n",
      " 3   CITY                 194 non-null    object \n",
      " 4   STATE                158 non-null    object \n",
      " 5   COUNTRY_CODE         194 non-null    object \n",
      " 6   POSTAL_CODE          194 non-null    object \n",
      " 7   POSTAL_CODE_PLUS4    194 non-null    float64\n",
      " 8   EMAIL_ADDRESS        194 non-null    object \n",
      " 9   PHONE_NUMBER         194 non-null    object \n",
      " 10  CREDITCARD_TYPE      194 non-null    object \n",
      " 11  SALESMAN_ID          194 non-null    object \n",
      " 12  NATIONALITY          194 non-null    object \n",
      " 13  NATIONAL_ID          194 non-null    object \n",
      " 14  CREDITCARD_NUMBER    194 non-null    float64\n",
      " 15  CUST_ID              194 non-null    float64\n",
      " 16  ORDER_ID             194 non-null    float64\n",
      " 17  ORDER_DATE           194 non-null    object \n",
      " 18  ORDER_TIME           194 non-null    object \n",
      " 19  FREIGHT_CHARGES      194 non-null    float64\n",
      " 20  ORDER_SALESMAN       194 non-null    object \n",
      " 21  ORDER_POSTED_DATE    194 non-null    object \n",
      " 22  ORDER_SHIP_DATE      194 non-null    object \n",
      " 23  AGE                  170 non-null    object \n",
      " 24  ORDER_VALUE          194 non-null    float64\n",
      " 25  T_TYPE               194 non-null    object \n",
      " 26  PURCHASE_TOUCHPOINT  194 non-null    object \n",
      " 27  PURCHASE_STATUS      194 non-null    object \n",
      " 28  ORDER_TYPE           194 non-null    object \n",
      " 29  GENERATION           194 non-null    object \n",
      " 30  Baby Food            194 non-null    float64\n",
      " 31  Diapers              194 non-null    float64\n",
      " 32  Formula              194 non-null    float64\n",
      " 33  Lotion               194 non-null    float64\n",
      " 34  Baby wash            194 non-null    float64\n",
      " 35  Wipes                194 non-null    float64\n",
      " 36  Fresh Fruits         194 non-null    float64\n",
      " 37  Fresh Vegetables     194 non-null    float64\n",
      " 38  Beer                 194 non-null    float64\n",
      " 39  Wine                 194 non-null    float64\n",
      " 40  Club Soda            194 non-null    float64\n",
      " 41  Sports Drink         194 non-null    float64\n",
      " 42  Chips                194 non-null    float64\n",
      " 43  Popcorn              194 non-null    float64\n",
      " 44  Oatmeal              194 non-null    float64\n",
      " 45  Medicines            194 non-null    float64\n",
      " 46  Canned Foods         194 non-null    float64\n",
      " 47  Cigarettes           194 non-null    float64\n",
      " 48  Cheese               194 non-null    float64\n",
      " 49  Cleaning Products    194 non-null    float64\n",
      " 50  Condiments           194 non-null    float64\n",
      " 51  Frozen Foods         194 non-null    float64\n",
      " 52  Kitchen Items        194 non-null    float64\n",
      " 53  Meat                 194 non-null    float64\n",
      " 54  Office Supplies      194 non-null    float64\n",
      " 55  Personal Care        194 non-null    float64\n",
      " 56  Pet Supplies         194 non-null    float64\n",
      " 57  Sea Food             194 non-null    float64\n",
      " 58  Spices               194 non-null    float64\n",
      "dtypes: float64(35), object(24)\n",
      "memory usage: 91.4+ KB\n"
     ]
    }
   ],
   "source": [
    "df1.duplicated().sum()\n",
    "df1.info()"
   ]
  },
  {
   "cell_type": "markdown",
   "metadata": {},
   "source": [
    "### Data Types and Conversion\n",
    "\n",
    "Data type conversion in Pandas is a crucial aspect of data preprocessing, allowing you to ensure that your data is in the appropriate format for analysis or modeling.\n",
    "\n",
    "Data from various sources are usually messy and the data types of some values may be in the wrong format, for example some numerical values may come in 'float' or 'string' format instead of 'integer' format and a mix up of these formats leads to errors and wrong results.\n",
    "\n",
    "You can convert a Column of type int to float with the following code:"
   ]
  },
  {
   "cell_type": "code",
   "execution_count": null,
   "metadata": {},
   "outputs": [],
   "source": [
    "#Convert 'Column1' to float\n",
    "df['Column1'] = df['Column1'].astype(float)\n",
    "\n",
    "#Display updated data types\n",
    "print(df.dtypes)"
   ]
  },
  {
   "cell_type": "markdown",
   "metadata": {},
   "source": [
    "### How to Handle Outliers\n",
    "\n",
    "Outliers are data points significantly different from the majority of the data, they can distort statistical measures and adversely affect the performance of machine learning models.\n",
    "\n",
    "They may be caused by human error, missing NaN values, or could be accurate data that does not correlate with the rest of the data.\n",
    "\n",
    "There are several methods to identify and remove outliers, they are:\n",
    "\n",
    "Remove NaN values.\n",
    "Visualize the data before and after removal.\n",
    "Z-score method (for normally distributed data).\n",
    "IQR (Interquartile range) method for more robust data."
   ]
  },
  {
   "cell_type": "markdown",
   "metadata": {},
   "source": [
    "### Inspecting the Dataset"
   ]
  },
  {
   "cell_type": "code",
   "execution_count": null,
   "metadata": {},
   "outputs": [],
   "source": [
    "# Display the first 5 rows\n",
    "df.head()"
   ]
  },
  {
   "cell_type": "code",
   "execution_count": null,
   "metadata": {},
   "outputs": [],
   "source": [
    "# Summary of data types and non-null values\n",
    "df.info()"
   ]
  },
  {
   "cell_type": "code",
   "execution_count": null,
   "metadata": {},
   "outputs": [],
   "source": [
    "# Descriptive statistics for numerical columns\n",
    "df.describe()"
   ]
  },
  {
   "cell_type": "markdown",
   "metadata": {},
   "source": [
    "### Data Cleaning"
   ]
  },
  {
   "cell_type": "markdown",
   "metadata": {},
   "source": [
    "Correcting Misspelling"
   ]
  },
  {
   "cell_type": "code",
   "execution_count": 91,
   "metadata": {},
   "outputs": [
    {
     "data": {
      "text/plain": [
       "array(['Master Card', 'VISA', 'Discover', 'American Express',\n",
       "       'American Expres', 'Diners Club', 'jcb', nan], dtype=object)"
      ]
     },
     "execution_count": 91,
     "metadata": {},
     "output_type": "execute_result"
    }
   ],
   "source": [
    "# Checking errors in credit type\n",
    "df['CREDITCARD_TYPE'].unique()"
   ]
  },
  {
   "cell_type": "markdown",
   "metadata": {},
   "source": [
    "The CREDITCARD_TYPE column contains the following entries:\n",
    "\n",
    "Correct values: 'Master Card', 'VISA', 'Discover', 'American Express', 'Diners Club', 'JCB'.\n",
    "\n",
    "Spelling errors: 'American Expres' (should be 'American Express'), 'jcb' (should be 'JCB')."
   ]
  },
  {
   "cell_type": "markdown",
   "metadata": {},
   "source": [
    "Steps to fix the spelling errors:\n",
    "\n",
    "Replace 'American Expres' with 'American Express'.\n",
    "\n",
    "Capitalize 'jcb' to 'JCB'."
   ]
  },
  {
   "cell_type": "code",
   "execution_count": null,
   "metadata": {},
   "outputs": [],
   "source": [
    "# Replace incorrect entries with the correct ones\n",
    "df['CREDITCARD_TYPE'].replace({'American Expres': 'American Express', 'jcb': 'JCB'}, inplace=True)\n",
    "\n",
    "# Verify the changes\n",
    "df['CREDITCARD_TYPE'].unique()\n"
   ]
  },
  {
   "cell_type": "markdown",
   "metadata": {},
   "source": [
    "for any particular column the syntax is basically similar."
   ]
  },
  {
   "cell_type": "code",
   "execution_count": null,
   "metadata": {},
   "outputs": [],
   "source": [
    "# Replace misspellings in any column\n",
    "# df['column_name'] = df['column_name'].replace({'old_value': 'new_value'})"
   ]
  },
  {
   "cell_type": "markdown",
   "metadata": {},
   "source": [
    "Removing Empty Rows\n",
    "There are missing data entries but you can also check if there are missing rows entirely."
   ]
  },
  {
   "cell_type": "code",
   "execution_count": null,
   "metadata": {},
   "outputs": [],
   "source": [
    "# Check if any row has all missing values\n",
    "empty_rows = df.isna().all(axis=1)\n",
    "print(df[empty_rows])"
   ]
  },
  {
   "cell_type": "code",
   "execution_count": null,
   "metadata": {},
   "outputs": [],
   "source": [
    "# Using isna()\n",
    "missing_row = df.isna().sum(axis=1)\n",
    "print(missing_row)"
   ]
  },
  {
   "cell_type": "markdown",
   "metadata": {},
   "source": [
    "This will show the number of missing values per row. If a row has the total number of columns as NaN, that means it's an empty row."
   ]
  },
  {
   "cell_type": "markdown",
   "metadata": {},
   "source": [
    "To remove empty rows in your dataset, you can use the dropna() function, which drops rows where all the values are NaN (i.e., empty)."
   ]
  },
  {
   "cell_type": "code",
   "execution_count": null,
   "metadata": {},
   "outputs": [],
   "source": [
    "# Drop rows where all values are missing\n",
    "# df.dropna(how='all', inplace=True)\n",
    "\n",
    "# Verify the dataset after removing empty rows\n",
    "df.shape  # This will show the new shape of the dataset after removal"
   ]
  },
  {
   "cell_type": "markdown",
   "metadata": {},
   "source": [
    "## Checking and Removing Duplicate Values"
   ]
  },
  {
   "cell_type": "code",
   "execution_count": null,
   "metadata": {},
   "outputs": [],
   "source": [
    "# Check for Duplicate values\n",
    "duplicates = df.duplicated()\n",
    "\n",
    "# Display duplicated rows\n",
    "print(df['duplicates'])"
   ]
  },
  {
   "cell_type": "code",
   "execution_count": null,
   "metadata": {},
   "outputs": [],
   "source": [
    "# Remove duplicate rows\n",
    "df.drop_duplicates(inplace=True)\n",
    "\n",
    "# Verify that duplicates are removed\n",
    "print(df.shape)  # Check the new shape of the dataset"
   ]
  },
  {
   "cell_type": "markdown",
   "metadata": {},
   "source": [
    "### Check for Duplicates Based on Specific Columns\n",
    "\n",
    "You can specify the columns on which you want to check for duplicates. This will identify rows that have identical values for those columns."
   ]
  },
  {
   "cell_type": "code",
   "execution_count": null,
   "metadata": {},
   "outputs": [],
   "source": [
    "# Check for duplicates based on specific columns (e.g., 'CUST_NAME' and 'EMAIL_ADDRESS')\n",
    "duplicates_based_on_columns = df[df.duplicated(subset=['CUST_NAME', 'EMAIL_ADDRESS'], keep=False)]\n",
    "\n",
    "# Display the duplicates\n",
    "print(duplicates_based_on_columns)"
   ]
  },
  {
   "cell_type": "markdown",
   "metadata": {},
   "source": [
    "### Drop duplicates based on specific columns\n",
    "\n",
    "If you want to drop duplicates only based on specific columns (and not the entire row), you can specify the column names:"
   ]
  },
  {
   "cell_type": "code",
   "execution_count": null,
   "metadata": {},
   "outputs": [],
   "source": [
    "# # Remove duplicates based on 'CUST_NAME' and 'EMAIL_ADDRESS', keeping the first occurrence\n",
    "# cleaned_data = data.drop_duplicates(subset=['CUST_NAME', 'EMAIL_ADDRESS'], keep='first')\n",
    "\n",
    "# # Display the cleaned data\n",
    "# print(cleaned_data)\n"
   ]
  },
  {
   "cell_type": "markdown",
   "metadata": {},
   "source": [
    "### Changing the Columns to lower case for Consistency\n",
    "\n",
    "Consistency:\n",
    "\n",
    "When you consistently use lowercase, it eliminates the confusion that may arise from mixing upper and lowercase letters, especially in larger datasets or when working in teams.\n",
    "It's easier to remember that all column names are lowercase, avoiding typos like df['CreditCard_Type'] vs. df['creditcard_type'].\n",
    "\n",
    "2. Simplicity:\n",
    "\n",
    "Lowercase names are simple and reduce the chance of errors when typing column names.\n",
    "They prevent issues with case sensitivity, which is important because column names in pandas are case-sensitive (df['Name'] is not the same as df['name']).\n",
    "\n",
    "3. Improved Readability in Code:\n",
    "\n",
    "Lowercase with underscores is a common convention in Python, matching the snake_case style for variable names. This makes the code more readable and consistent.\n",
    "Example: df['first_name'] is easier to read and work with than df['FirstName'].\n",
    "\n",
    "4. Cross-Platform Compatibility:\n",
    "\n",
    "Lowercase column names are useful when moving data between different systems or databases, as some environments may be case-insensitive or treat column names differently (e.g., SQL databases)."
   ]
  },
  {
   "cell_type": "code",
   "execution_count": 105,
   "metadata": {},
   "outputs": [
    {
     "data": {
      "text/plain": [
       "Index(['CUST_NAME', 'Gender_Code', 'ADDRESS1', 'CITY', 'STATE', 'COUNTRY_CODE',\n",
       "       'POSTAL_CODE', 'POSTAL_CODE_PLUS4', 'EMAIL_ADDRESS', 'PHONE_NUMBER',\n",
       "       'CREDITCARD_TYPE', 'SALESMAN_ID', 'NATIONALITY', 'NATIONAL_ID',\n",
       "       'CREDITCARD_NUMBER', 'CUST_ID', 'ORDER_ID', 'ORDER_DATE', 'ORDER_TIME',\n",
       "       'FREIGHT_CHARGES', 'ORDER_SALESMAN', 'ORDER_POSTED_DATE',\n",
       "       'ORDER_SHIP_DATE', 'AGE', 'ORDER_VALUE', 'T_TYPE',\n",
       "       'PURCHASE_TOUCHPOINT', 'PURCHASE_STATUS', 'ORDER_TYPE', 'GENERATION',\n",
       "       'Baby Food', 'Diapers', 'Formula', 'Lotion', 'Baby wash', 'Wipes',\n",
       "       'Fresh Fruits', 'Fresh Vegetables', 'Beer', 'Wine', 'Club Soda',\n",
       "       'Sports Drink', 'Chips', 'Popcorn', 'Oatmeal', 'Medicines',\n",
       "       'Canned Foods', 'Cigarettes', 'Cheese', 'Cleaning Products',\n",
       "       'Condiments', 'Frozen Foods', 'Kitchen Items', 'Meat',\n",
       "       'Office Supplies', 'Personal Care', 'Pet Supplies', 'Sea Food',\n",
       "       'Spices'],\n",
       "      dtype='object')"
      ]
     },
     "execution_count": 105,
     "metadata": {},
     "output_type": "execute_result"
    }
   ],
   "source": [
    "df.columns"
   ]
  },
  {
   "cell_type": "code",
   "execution_count": 115,
   "metadata": {},
   "outputs": [
    {
     "name": "stdout",
     "output_type": "stream",
     "text": [
      "Index(['cust_name', 'gender_code', 'address1', 'city', 'state', 'country_code',\n",
      "       'postal_code', 'postal_code_plus4', 'email_address', 'phone_number',\n",
      "       'creditcard_type', 'salesman_id', 'nationality', 'national_id',\n",
      "       'creditcard_number', 'cust_id', 'order_id', 'order_date', 'order_time',\n",
      "       'freight_charges', 'order_salesman', 'order_posted_date',\n",
      "       'order_ship_date', 'age', 'order_value', 't_type',\n",
      "       'purchase_touchpoint', 'purchase_status', 'order_type', 'generation',\n",
      "       'baby food', 'diapers', 'formula', 'lotion', 'baby wash', 'wipes',\n",
      "       'fresh fruits', 'fresh vegetables', 'beer', 'wine', 'club soda',\n",
      "       'sports drink', 'chips', 'popcorn', 'oatmeal', 'medicines',\n",
      "       'canned foods', 'cigarettes', 'cheese', 'cleaning products',\n",
      "       'condiments', 'frozen foods', 'kitchen items', 'meat',\n",
      "       'office supplies', 'personal care', 'pet supplies', 'sea food',\n",
      "       'spices'],\n",
      "      dtype='object')\n"
     ]
    }
   ],
   "source": [
    "# # Convert all column names to lowercase\n",
    "df.columns = df.columns.str.lower()\n",
    "# x = \"ABDUL\"\n",
    "# x.lower()\n",
    "# # Display the updated column names\n",
    "print(df.columns)\n"
   ]
  },
  {
   "cell_type": "markdown",
   "metadata": {},
   "source": [
    "If it happens that you just want to change specific columns to Lowercase"
   ]
  },
  {
   "cell_type": "code",
   "execution_count": null,
   "metadata": {},
   "outputs": [],
   "source": [
    "# List the specific columns you want to change to lowercase\n",
    "columns_to_lowercase = ['CREDITCARD_TYPE', 'CUSTOMER_NAME']  # Example column names\n",
    "\n",
    "# Apply lowercase transformation to the specific columns\n",
    "df.rename(columns={col: col.lower() for col in columns_to_lowercase}, inplace=True)\n",
    "\n",
    "# Display the updated column names\n",
    "print(df.columns)\n"
   ]
  },
  {
   "cell_type": "markdown",
   "metadata": {},
   "source": [
    "### Changing values to lower case\n"
   ]
  },
  {
   "cell_type": "code",
   "execution_count": null,
   "metadata": {},
   "outputs": [],
   "source": [
    "# List of specific columns where you want to change the values to lowercase\n",
    "columns_to_lower = ['CUSTOMER_NAME', 'EMAIL']  # Example column names\n",
    "\n",
    "# Apply .str.lower() to each specified column\n",
    "for col in columns_to_lower:\n",
    "    df[col] = df[col].str.lower()\n",
    "\n",
    "# Display the modified DataFrame\n",
    "df.head()\n"
   ]
  },
  {
   "cell_type": "code",
   "execution_count": null,
   "metadata": {},
   "outputs": [],
   "source": [
    "# Change the entries of a single column to lowercase\n",
    "df['CUSTOMER_NAME'] = df['CUSTOMER_NAME'].str.lower()\n",
    "\n",
    "# Display the updated DataFrame\n",
    "df.head()\n"
   ]
  },
  {
   "cell_type": "code",
   "execution_count": null,
   "metadata": {},
   "outputs": [],
   "source": [
    "# # Check for missing values in each column\n",
    "# missing_values = df.isna().sum()\n",
    "# print(missing_values)\n"
   ]
  },
  {
   "cell_type": "code",
   "execution_count": null,
   "metadata": {},
   "outputs": [],
   "source": [
    "# # Check for duplicated rows\n",
    "# duplicate_rows = df.duplicated().sum()\n",
    "# print(f\"Number of duplicated rows: {duplicate_rows}\")\n"
   ]
  },
  {
   "cell_type": "markdown",
   "metadata": {},
   "source": [
    "We can do some visualizations to better understand our data\n"
   ]
  },
  {
   "cell_type": "markdown",
   "metadata": {},
   "source": [
    "## Customer Distribution by Gender\n",
    "A bar chart can show the distribution of customers based on their gender."
   ]
  },
  {
   "cell_type": "code",
   "execution_count": 119,
   "metadata": {},
   "outputs": [
    {
     "data": {
      "image/png": "[encoded data removed]",
      "text/plain": [
       "<Figure size 640x480 with 1 Axes>"
      ]
     },
     "metadata": {},
     "output_type": "display_data"
    }
   ],
   "source": [
    "import seaborn as sns\n",
    "import matplotlib.pyplot as plt\n",
    "\n",
    "# Gender distribution bar plot\n",
    "sns.countplot(x='gender_code', data=df)\n",
    "plt.title('Customer Distribution by Gender')\n",
    "plt.xlabel('Gender')\n",
    "plt.ylabel('Count')\n",
    "plt.show()\n"
   ]
  },
  {
   "cell_type": "markdown",
   "metadata": {},
   "source": [
    "### Age Distribution of Customers\n",
    "A histogram can show the distribution of customers' ages."
   ]
  },
  {
   "cell_type": "code",
   "execution_count": 123,
   "metadata": {
    "scrolled": true
   },
   "outputs": [
    {
     "data": {
      "image/png": "[encoded data removed]",
      "text/plain": [
       "<Figure size 640x480 with 1 Axes>"
      ]
     },
     "metadata": {},
     "output_type": "display_data"
    }
   ],
   "source": [
    "# Age distribution histogram\n",
    "sns.histplot(df['age'], kde=True, bins=20)\n",
    "plt.title('Age Distribution of Customers')\n",
    "plt.xlabel('Age')\n",
    "plt.ylabel('Frequency')\n",
    "plt.show()"
   ]
  },
  {
   "cell_type": "markdown",
   "metadata": {},
   "source": [
    "It will not work as the age column contains inconsistent data."
   ]
  },
  {
   "cell_type": "code",
   "execution_count": null,
   "metadata": {},
   "outputs": [],
   "source": [
    "import pandas as pd\n",
    "\n",
    "# Assume df is already your DataFrame and has the 'AGE' column\n",
    "\n",
    "# Remove non-numeric characters from the 'AGE' column\n",
    "df['age'] = df['age'].astype(str).str.extract('(\\d+)')  # Extract numeric part of the string\n",
    "df['Aa'] = df['age'].astype(float)  # Convert to integer (handle NaNs if necessary)\n",
    "# df.age.unique()\n",
    "# Check the result\n",
    "# print(df['AGE'].head())\n",
    "df.age.unique()"
   ]
  },
  {
   "cell_type": "code",
   "execution_count": 149,
   "metadata": {},
   "outputs": [
    {
     "data": {
      "text/plain": [
       "48.17142857142857"
      ]
     },
     "execution_count": 149,
     "metadata": {},
     "output_type": "execute_result"
    }
   ],
   "source": [
    "df['age'].fillna(48)"
   ]
  },
  {
   "cell_type": "markdown",
   "metadata": {},
   "source": [
    "### Sales Distribution (Order Value)\n",
    "A boxplot can show the spread of ORDER_VALUE and identify any outliers in the data."
   ]
  },
  {
   "cell_type": "code",
   "execution_count": 151,
   "metadata": {},
   "outputs": [
    {
     "data": {
      "image/png": "[encoded data removed]",
      "text/plain": [
       "<Figure size 640x480 with 1 Axes>"
      ]
     },
     "metadata": {},
     "output_type": "display_data"
    }
   ],
   "source": [
    "# Boxplot of order value\n",
    "sns.boxplot(y='order_value', data=df)\n",
    "plt.title('Distribution of Order Values')\n",
    "plt.ylabel('Order Value')\n",
    "plt.show()"
   ]
  },
  {
   "cell_type": "markdown",
   "metadata": {},
   "source": [
    "### Sales Trend Over Time\n",
    "We can look at sales trends, assuming you have ORDER_DATE, you can plot the trend over time."
   ]
  },
  {
   "cell_type": "markdown",
   "metadata": {},
   "source": [
    "# Assignment\n",
    "Download and load the dataset in this [address](https://raw.githubusercontent.com/justmarkham/DAT8/master/data/chipotle.tsv) in a notebook. Perform EDA and clean the data where needed."
   ]
  }
 ],
 "metadata": {
  "kernelspec": {
   "display_name": "Python 3 (ipykernel)",
   "language": "python",
   "name": "python3"
  },
  "language_info": {
   "codemirror_mode": {
    "name": "ipython",
    "version": 3
   },
   "file_extension": ".py",
   "mimetype": "text/x-python",
   "name": "python",
   "nbconvert_exporter": "python",
   "pygments_lexer": "ipython3",
   "version": "3.11.5"
  }
 },
 "nbformat": 4,
 "nbformat_minor": 4
}
