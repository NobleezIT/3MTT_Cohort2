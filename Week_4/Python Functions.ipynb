{
 "cells": [
  {
   "cell_type": "markdown",
   "id": "5573dbd4-e585-473f-aa8b-fd16b50eb184",
   "metadata": {},
   "source": [
    "# Pyton Functions\n",
    "Python Functions is a block of statements that return the specific task. The idea is to put some commonly or repeatedly done tasks together and make a function so that instead of writing the same code again and again for different inputs, we can do the function calls to reuse code contained in it over and over again.\n",
    "\n",
    "## Types of Functions in Python\n",
    "Below are the different types of functions in Python:\n",
    "\n",
    "- Built-in library function: These are Standard functions in Python that are available to use.\n",
    "- User-defined function: We can create our own functions based on our requirements."
   ]
  },
  {
   "cell_type": "markdown",
   "id": "01c4b7b9",
   "metadata": {},
   "source": [
    "## Built-in Functions\n",
    "Python provides a lot of built-in functions that ease the writing of code."
   ]
  },
  {
   "cell_type": "code",
   "execution_count": 6,
   "id": "a5396d84-6fcc-4608-a8fb-2983dc456557",
   "metadata": {},
   "outputs": [],
   "source": [
    "# t# Examples of Builtin functions\n",
    "\n",
    "# print()\n",
    "# len()\n",
    "# type()\n",
    "# sum()\n",
    "# # Built-in Functions\n",
    "# list()\n",
    "# dict()\n",
    "# tuple()\n",
    "# set()\n"
   ]
  },
  {
   "cell_type": "markdown",
   "id": "8b036ed9",
   "metadata": {},
   "source": [
    "## Creating a Function in Python\n",
    "We can define a function in Python, using the def keyword. We can add any type of functionalities and properties to it as we require. By the following example, we can understand how to write a function in Python. In this way we can create Python function definition by using def keyword."
   ]
  },
  {
   "cell_type": "markdown",
   "id": "17d99d61-3d6e-4873-b600-b758a86f9a34",
   "metadata": {},
   "source": [
    "### function syntax\n",
    "def function_name(parameters):\n",
    "\n",
    "        statement\n",
    "\n",
    "        return expression"
   ]
  },
  {
   "cell_type": "code",
   "execution_count": 7,
   "id": "145a708e-95fd-4601-b3d4-25186e9fcd3d",
   "metadata": {},
   "outputs": [],
   "source": [
    "def greet():\n",
    "    print(\"Hi! Welcome\")\n"
   ]
  },
  {
   "cell_type": "markdown",
   "id": "f1bf96fd",
   "metadata": {},
   "source": [
    "### Calling a Function in Python\n",
    "After creating a function in Python we can call it by using the name of the functions Python followed by parenthesis containing parameters of that particular function. Below is the example for calling def function Python."
   ]
  },
  {
   "cell_type": "code",
   "execution_count": 8,
   "id": "46b9096c-829d-440e-9150-59343aadf1ca",
   "metadata": {},
   "outputs": [
    {
     "name": "stdout",
     "output_type": "stream",
     "text": [
      "Hi! Welcome\n"
     ]
    }
   ],
   "source": [
    "# Calling the greet function\n",
    "greet()"
   ]
  },
  {
   "cell_type": "markdown",
   "id": "f0995d9b",
   "metadata": {},
   "source": [
    "## Python Function with Parameters\n",
    "If you have experience in C/C++ or Java then you must be thinking about the return type of the function and data type of arguments. That is possible in Python as well (specifically for Python 3.5 and above)."
   ]
  },
  {
   "cell_type": "markdown",
   "id": "38a76e2a",
   "metadata": {},
   "source": [
    "# Python function Syntax with Parameters\n",
    "def function_name(parameter: data_type) -> \n",
    "    \n",
    "    return_type:\n",
    "\n",
    "        \"\"\"Docstring\"\"\"\n",
    "        # body of the function\n",
    "        return expression"
   ]
  },
  {
   "cell_type": "code",
   "execution_count": 9,
   "id": "1e6cf748-4bec-43b4-9509-43a5b483b3cf",
   "metadata": {},
   "outputs": [],
   "source": [
    "def add(num1, num2):\n",
    "    num3 = num1 + num2\n",
    "    return num3"
   ]
  },
  {
   "cell_type": "code",
   "execution_count": 10,
   "id": "b4619c68-1f46-45a2-8d99-a95600f0465f",
   "metadata": {},
   "outputs": [
    {
     "data": {
      "text/plain": [
       "5"
      ]
     },
     "execution_count": 10,
     "metadata": {},
     "output_type": "execute_result"
    }
   ],
   "source": [
    "add(2, 3)"
   ]
  },
  {
   "cell_type": "code",
   "execution_count": 11,
   "id": "670ee1e1-f1db-46a0-8ce0-1bba1300d094",
   "metadata": {},
   "outputs": [],
   "source": [
    "def power(x, y):\n",
    "    result = x ** y\n",
    "    return result"
   ]
  },
  {
   "cell_type": "code",
   "execution_count": 12,
   "id": "38c16452-dba9-41d6-b371-b7c0451fa3a8",
   "metadata": {},
   "outputs": [
    {
     "data": {
      "text/plain": [
       "128"
      ]
     },
     "execution_count": 12,
     "metadata": {},
     "output_type": "execute_result"
    }
   ],
   "source": [
    "power(2, 7)"
   ]
  },
  {
   "cell_type": "markdown",
   "id": "d420c983",
   "metadata": {},
   "source": [
    "## Python Function Arguments\n",
    "Arguments are the values passed inside the parenthesis of the function. A function can have any number of arguments separated by a comma.\n",
    "\n",
    "In this example, we will create a simple function in Python to check whether the number passed as an argument to the function is even or odd."
   ]
  },
  {
   "cell_type": "code",
   "execution_count": 13,
   "id": "452be024",
   "metadata": {},
   "outputs": [],
   "source": [
    "# A simple Python function to check\n",
    "# whether x is even or odd\n",
    "def evenOdd(x):\n",
    "    if (x % 2 == 0):\n",
    "        print(\"even\")\n",
    "    else:\n",
    "        print(\"odd\")\n"
   ]
  },
  {
   "cell_type": "markdown",
   "id": "be23ef7e",
   "metadata": {},
   "source": [
    "Types of Python Function Arguments\n",
    "Python supports various types of arguments that can be passed at the time of the function call. In Python, we have the following function argument types in Python:\n",
    "\n",
    "- Default argument\n",
    "- Keyword arguments (named arguments)\n",
    "- Positional arguments\n",
    "- Arbitrary arguments (variable-length arguments *args and **kwargs)"
   ]
  },
  {
   "cell_type": "markdown",
   "id": "27f029d5",
   "metadata": {},
   "source": [
    "### Default Arguments\n",
    "A default argument is a parameter that assumes a default value if a value is not provided in the function call for that argument. The following example illustrates Default arguments to write functions in Python."
   ]
  },
  {
   "cell_type": "code",
   "execution_count": 14,
   "id": "e4e6b8b1",
   "metadata": {},
   "outputs": [],
   "source": [
    "# Python program to demonstrate\n",
    "# default arguments\n",
    "def myFun(x, y=50):\n",
    "    print(\"x: \", x)\n",
    "    print(\"y: \", y)"
   ]
  },
  {
   "cell_type": "markdown",
   "id": "5815312f",
   "metadata": {},
   "source": [
    "### Keyword Arguments\n",
    "The idea is to allow the caller to specify the argument name with values so that the caller does not need to remember the order of parameters."
   ]
  },
  {
   "cell_type": "markdown",
   "id": "9fedc29b",
   "metadata": {},
   "source": [
    "# Positional Arguments\n",
    "We used the Position argument during the function call so that the first argument (or value) is assigned to name and the second argument (or value) is assigned to age. By changing the position, or if you forget the order of the positions, the values can be used in the wrong places, as shown in the Case-2 example below, where 27 is assigned to the name and Suraj is assigned to the age."
   ]
  },
  {
   "cell_type": "code",
   "execution_count": 15,
   "id": "d2444813",
   "metadata": {},
   "outputs": [],
   "source": [
    "def nameAge(name, age):\n",
    "    print(\"Hi, I am\", name)\n",
    "    print(\"My age is \", age)\n"
   ]
  },
  {
   "cell_type": "markdown",
   "id": "d8b7f18c",
   "metadata": {},
   "source": [
    "### Arbitrary Keyword  Arguments\n",
    "In Python Arbitrary Keyword Arguments, *args, and **kwargs can pass a variable number of arguments to a function using special symbols. There are two special symbols:\n",
    "\n",
    "- args in Python (Non-Keyword Arguments)\n",
    "- kwargs in Python (Keyword Arguments)"
   ]
  },
  {
   "cell_type": "code",
   "execution_count": 16,
   "id": "13933c54",
   "metadata": {},
   "outputs": [
    {
     "name": "stdout",
     "output_type": "stream",
     "text": [
      "Hello\n",
      "Welcome\n",
      "to\n",
      "Python\n"
     ]
    }
   ],
   "source": [
    "# Python program to illustrate\n",
    "# *args for variable number of arguments\n",
    "def myFun(*argv):\n",
    "    for arg in argv:\n",
    "        print(arg)\n",
    "\n",
    "\n",
    "myFun('Hello', 'Welcome', 'to', 'Python')"
   ]
  },
  {
   "cell_type": "code",
   "execution_count": 17,
   "id": "4a2f52ff",
   "metadata": {},
   "outputs": [
    {
     "name": "stdout",
     "output_type": "stream",
     "text": [
      "first == New\n",
      "mid == to\n",
      "last == Python\n"
     ]
    }
   ],
   "source": [
    "# Python program to illustrate\n",
    "# *kwargs for variable number of keyword arguments\n",
    "\n",
    "\n",
    "def myFun(**kwargs):\n",
    "    for key, value in kwargs.items():\n",
    "        print(\"%s == %s\" % (key, value))\n",
    "\n",
    "\n",
    "# Driver code\n",
    "myFun(first='New', mid='to', last='Python')"
   ]
  },
  {
   "cell_type": "markdown",
   "id": "c1d7d346",
   "metadata": {},
   "source": [
    "### Docstring\n",
    "The first string after the function is called the Document string or Docstring in short. This is used to describe the functionality of the function. The use of docstring in functions is optional but it is considered a good practice.\n",
    "\n",
    "The below syntax can be used to print out the docstring of a function."
   ]
  },
  {
   "cell_type": "markdown",
   "id": "8d9e5f87",
   "metadata": {},
   "source": [
    "Syntax: print(function_name.__doc__)"
   ]
  },
  {
   "cell_type": "code",
   "execution_count": 18,
   "id": "f8d0fd28",
   "metadata": {},
   "outputs": [
    {
     "name": "stdout",
     "output_type": "stream",
     "text": [
      "Function to check if the number is even or odd\n"
     ]
    }
   ],
   "source": [
    "# A simple Python function to check\n",
    "# whether x is even or odd\n",
    "\n",
    "\n",
    "def evenOdd(x):\n",
    "    \"\"\"Function to check if the number is even or odd\"\"\"\n",
    "    \n",
    "    if (x % 2 == 0):\n",
    "        print(\"even\")\n",
    "    else:\n",
    "        print(\"odd\")\n",
    "\n",
    "\n",
    "# Driver code to call the function\n",
    "print(evenOdd.__doc__)"
   ]
  },
  {
   "cell_type": "markdown",
   "id": "48674c03",
   "metadata": {},
   "source": [
    "## Use case for Python Functions\n",
    "#### Grading student result:\n",
    "Using python, you can easily define a function that can be used to grade students exams score as shown below:"
   ]
  },
  {
   "cell_type": "code",
   "execution_count": 19,
   "id": "f2a3b89a-4bf5-4a5b-b647-7fcf70ccc9fb",
   "metadata": {},
   "outputs": [],
   "source": [
    "# Defining a function called determine grade.\n",
    "def determine_grade(score):\n",
    "    if score >= 70:\n",
    "        return 'A'\n",
    "    elif score >= 60:\n",
    "        return 'B'\n",
    "    elif score >= 50:\n",
    "        return 'C'\n",
    "    elif score >= 45:\n",
    "        return 'D'\n",
    "    elif score >= 39:\n",
    "        return 'E'\n",
    "    else:\n",
    "        return 'F'"
   ]
  },
  {
   "cell_type": "code",
   "execution_count": 20,
   "id": "68f2f2c5-2d13-4bb0-8712-9236ac92a4cb",
   "metadata": {},
   "outputs": [
    {
     "data": {
      "text/plain": [
       "'B'"
      ]
     },
     "execution_count": 20,
     "metadata": {},
     "output_type": "execute_result"
    }
   ],
   "source": [
    "# Calling determine grade on a particular score\n",
    "determine_grade(65)"
   ]
  },
  {
   "cell_type": "markdown",
   "id": "cda1a159",
   "metadata": {},
   "source": [
    "This function can be used on a dataframe by creating a new column for the grade and appplying the function"
   ]
  },
  {
   "cell_type": "markdown",
   "id": "ba0502fa",
   "metadata": {},
   "source": []
  },
  {
   "cell_type": "code",
   "execution_count": 21,
   "id": "f04bc681-656f-4b28-ab56-5eea1ddcd0ee",
   "metadata": {},
   "outputs": [],
   "source": [
    "# import pandas for the dataframe\n",
    "import pandas as pd"
   ]
  },
  {
   "cell_type": "code",
   "execution_count": 22,
   "id": "f41ca761-410a-4ad9-8117-fccebd3b1100",
   "metadata": {},
   "outputs": [],
   "source": [
    "df = pd.read_csv(r\"C:\\Users\\abula\\Documents\\report.csv\")"
   ]
  },
  {
   "cell_type": "code",
   "execution_count": 23,
   "id": "b0f24294-8b27-40b1-ab38-417cf00fe799",
   "metadata": {},
   "outputs": [
    {
     "data": {
      "text/html": [
       "<div>\n",
       "<style scoped>\n",
       "    .dataframe tbody tr th:only-of-type {\n",
       "        vertical-align: middle;\n",
       "    }\n",
       "\n",
       "    .dataframe tbody tr th {\n",
       "        vertical-align: top;\n",
       "    }\n",
       "\n",
       "    .dataframe thead th {\n",
       "        text-align: right;\n",
       "    }\n",
       "</style>\n",
       "<table border=\"1\" class=\"dataframe\">\n",
       "  <thead>\n",
       "    <tr style=\"text-align: right;\">\n",
       "      <th></th>\n",
       "      <th>Student Name</th>\n",
       "      <th>Exam Score</th>\n",
       "    </tr>\n",
       "  </thead>\n",
       "  <tbody>\n",
       "    <tr>\n",
       "      <th>0</th>\n",
       "      <td>John Smith</td>\n",
       "      <td>85</td>\n",
       "    </tr>\n",
       "    <tr>\n",
       "      <th>1</th>\n",
       "      <td>Mary Johnson</td>\n",
       "      <td>72</td>\n",
       "    </tr>\n",
       "    <tr>\n",
       "      <th>2</th>\n",
       "      <td>Adam Brown</td>\n",
       "      <td>67</td>\n",
       "    </tr>\n",
       "    <tr>\n",
       "      <th>3</th>\n",
       "      <td>Sara Davis</td>\n",
       "      <td>93</td>\n",
       "    </tr>\n",
       "    <tr>\n",
       "      <th>4</th>\n",
       "      <td>Mike Wilson</td>\n",
       "      <td>78</td>\n",
       "    </tr>\n",
       "    <tr>\n",
       "      <th>5</th>\n",
       "      <td>Emily Moore</td>\n",
       "      <td>61</td>\n",
       "    </tr>\n",
       "    <tr>\n",
       "      <th>6</th>\n",
       "      <td>Mark Taylor</td>\n",
       "      <td>87</td>\n",
       "    </tr>\n",
       "    <tr>\n",
       "      <th>7</th>\n",
       "      <td>Laura Clark</td>\n",
       "      <td>79</td>\n",
       "    </tr>\n",
       "    <tr>\n",
       "      <th>8</th>\n",
       "      <td>Alex Parker</td>\n",
       "      <td>95</td>\n",
       "    </tr>\n",
       "    <tr>\n",
       "      <th>9</th>\n",
       "      <td>Olivia Adams</td>\n",
       "      <td>82</td>\n",
       "    </tr>\n",
       "  </tbody>\n",
       "</table>\n",
       "</div>"
      ],
      "text/plain": [
       "   Student Name  Exam Score\n",
       "0    John Smith          85\n",
       "1  Mary Johnson          72\n",
       "2    Adam Brown          67\n",
       "3    Sara Davis          93\n",
       "4   Mike Wilson          78\n",
       "5   Emily Moore          61\n",
       "6   Mark Taylor          87\n",
       "7   Laura Clark          79\n",
       "8   Alex Parker          95\n",
       "9  Olivia Adams          82"
      ]
     },
     "execution_count": 23,
     "metadata": {},
     "output_type": "execute_result"
    }
   ],
   "source": [
    "df"
   ]
  },
  {
   "cell_type": "code",
   "execution_count": 24,
   "id": "b589c8b6-c81b-4026-ad9b-cc86b07c45d9",
   "metadata": {},
   "outputs": [],
   "source": [
    "# cleaning the data\n",
    "df['exam_score'] =  df[\"Exam Score\"]\n",
    "df[\"student_name\"] = df[\"Student Name\"]"
   ]
  },
  {
   "cell_type": "code",
   "execution_count": 25,
   "id": "96732f6c-39d3-4e78-bd4c-a0ee2437c9fd",
   "metadata": {},
   "outputs": [
    {
     "data": {
      "text/html": [
       "<div>\n",
       "<style scoped>\n",
       "    .dataframe tbody tr th:only-of-type {\n",
       "        vertical-align: middle;\n",
       "    }\n",
       "\n",
       "    .dataframe tbody tr th {\n",
       "        vertical-align: top;\n",
       "    }\n",
       "\n",
       "    .dataframe thead th {\n",
       "        text-align: right;\n",
       "    }\n",
       "</style>\n",
       "<table border=\"1\" class=\"dataframe\">\n",
       "  <thead>\n",
       "    <tr style=\"text-align: right;\">\n",
       "      <th></th>\n",
       "      <th>student_name</th>\n",
       "      <th>exam_score</th>\n",
       "    </tr>\n",
       "  </thead>\n",
       "  <tbody>\n",
       "    <tr>\n",
       "      <th>0</th>\n",
       "      <td>John Smith</td>\n",
       "      <td>85</td>\n",
       "    </tr>\n",
       "    <tr>\n",
       "      <th>1</th>\n",
       "      <td>Mary Johnson</td>\n",
       "      <td>72</td>\n",
       "    </tr>\n",
       "    <tr>\n",
       "      <th>2</th>\n",
       "      <td>Adam Brown</td>\n",
       "      <td>67</td>\n",
       "    </tr>\n",
       "    <tr>\n",
       "      <th>3</th>\n",
       "      <td>Sara Davis</td>\n",
       "      <td>93</td>\n",
       "    </tr>\n",
       "    <tr>\n",
       "      <th>4</th>\n",
       "      <td>Mike Wilson</td>\n",
       "      <td>78</td>\n",
       "    </tr>\n",
       "    <tr>\n",
       "      <th>5</th>\n",
       "      <td>Emily Moore</td>\n",
       "      <td>61</td>\n",
       "    </tr>\n",
       "    <tr>\n",
       "      <th>6</th>\n",
       "      <td>Mark Taylor</td>\n",
       "      <td>87</td>\n",
       "    </tr>\n",
       "    <tr>\n",
       "      <th>7</th>\n",
       "      <td>Laura Clark</td>\n",
       "      <td>79</td>\n",
       "    </tr>\n",
       "    <tr>\n",
       "      <th>8</th>\n",
       "      <td>Alex Parker</td>\n",
       "      <td>95</td>\n",
       "    </tr>\n",
       "    <tr>\n",
       "      <th>9</th>\n",
       "      <td>Olivia Adams</td>\n",
       "      <td>82</td>\n",
       "    </tr>\n",
       "  </tbody>\n",
       "</table>\n",
       "</div>"
      ],
      "text/plain": [
       "   student_name  exam_score\n",
       "0    John Smith          85\n",
       "1  Mary Johnson          72\n",
       "2    Adam Brown          67\n",
       "3    Sara Davis          93\n",
       "4   Mike Wilson          78\n",
       "5   Emily Moore          61\n",
       "6   Mark Taylor          87\n",
       "7   Laura Clark          79\n",
       "8   Alex Parker          95\n",
       "9  Olivia Adams          82"
      ]
     },
     "execution_count": 25,
     "metadata": {},
     "output_type": "execute_result"
    }
   ],
   "source": [
    "df = df[[\"student_name\", \"exam_score\"]]\n",
    "df"
   ]
  },
  {
   "cell_type": "code",
   "execution_count": 26,
   "id": "4f7f900a-4924-4716-bb52-d4185983fac9",
   "metadata": {},
   "outputs": [
    {
     "name": "stderr",
     "output_type": "stream",
     "text": [
      "C:\\Users\\abula\\AppData\\Local\\Temp\\ipykernel_16264\\1005977092.py:1: SettingWithCopyWarning: \n",
      "A value is trying to be set on a copy of a slice from a DataFrame.\n",
      "Try using .loc[row_indexer,col_indexer] = value instead\n",
      "\n",
      "See the caveats in the documentation: https://pandas.pydata.org/pandas-docs/stable/user_guide/indexing.html#returning-a-view-versus-a-copy\n",
      "  df[\"grade\"] = df[\"exam_score\"].apply(determine_grade)\n"
     ]
    }
   ],
   "source": [
    "df[\"grade\"] = df[\"exam_score\"].apply(determine_grade)"
   ]
  },
  {
   "cell_type": "code",
   "execution_count": 27,
   "id": "8b791cf1-ce3a-4584-ab3e-255a0664dcf2",
   "metadata": {},
   "outputs": [
    {
     "name": "stdout",
     "output_type": "stream",
     "text": [
      "   student_name  exam_score grade\n",
      "0    John Smith          85     A\n",
      "1  Mary Johnson          72     A\n",
      "2    Adam Brown          67     B\n",
      "3    Sara Davis          93     A\n",
      "4   Mike Wilson          78     A\n",
      "5   Emily Moore          61     B\n",
      "6   Mark Taylor          87     A\n",
      "7   Laura Clark          79     A\n",
      "8   Alex Parker          95     A\n",
      "9  Olivia Adams          82     A\n"
     ]
    }
   ],
   "source": [
    "print(df)"
   ]
  },
  {
   "cell_type": "code",
   "execution_count": 28,
   "id": "261a55fb-80de-4bc1-985b-c885f2dbb002",
   "metadata": {},
   "outputs": [],
   "source": [
    "def evenodd(x):\n",
    "    if (x % 2 == 0):\n",
    "        print(\"even\")\n",
    "    else:\n",
    "        print(\"odd\")"
   ]
  },
  {
   "cell_type": "markdown",
   "id": "ec92cec3",
   "metadata": {},
   "source": [
    "### Return Statement in Python Function\n",
    "The function return statement is used to exit from a function and go back to the function caller and return the specified value or data item to the caller. The syntax for the return statement is:"
   ]
  },
  {
   "cell_type": "markdown",
   "id": "7fece980",
   "metadata": {},
   "source": [
    "return [expression_list]    \n",
    "\n",
    "The return statement can consist of a variable, an expression, or a constant which is returned at the end of the function execution. If none of the above is present with the return statement a None object is returned.\n",
    "\n",
    "Example: Python Function Return Statement"
   ]
  },
  {
   "cell_type": "code",
   "execution_count": null,
   "id": "a5cb05d2",
   "metadata": {},
   "outputs": [],
   "source": [
    "def square_value(num):\n",
    "    \"\"\"This function returns the square\n",
    "    value of the entered number\"\"\"\n",
    "    return num**2\n",
    "\n",
    "\n",
    "print(square_value(2))\n",
    "print(square_value(-4))"
   ]
  },
  {
   "cell_type": "markdown",
   "id": "f7fa7c8a",
   "metadata": {},
   "source": [
    "### Pass by Reference and Pass by Value\n",
    "One important thing to note is, in Python every variable name is a reference. When we pass a variable to a function Python, a new reference to the object is created. "
   ]
  },
  {
   "cell_type": "code",
   "execution_count": 33,
   "id": "9496cd21",
   "metadata": {},
   "outputs": [
    {
     "name": "stdout",
     "output_type": "stream",
     "text": [
      "[20, 11, 12, 13, 14, 15]\n"
     ]
    }
   ],
   "source": [
    "# Here x is a new reference to same list lst\n",
    "def mytest(x):\n",
    "    x[0] = 20\n",
    "\n",
    "\n",
    "# Driver Code (Note that lst is modified\n",
    "# after function call.\n",
    "lst = [10, 11, 12, 13, 14, 15]\n",
    "mytest(lst)\n",
    "print(lst)\n"
   ]
  },
  {
   "cell_type": "markdown",
   "id": "921feae3",
   "metadata": {},
   "source": [
    "# Exercise\n",
    "1. Create a function that takes any number as the argument and create a multiplication table from 1 to 12 for that particular number."
   ]
  },
  {
   "cell_type": "code",
   "execution_count": null,
   "id": "168c38cd-b463-4751-ad71-a247b113c623",
   "metadata": {},
   "outputs": [],
   "source": []
  }
 ],
 "metadata": {
  "kernelspec": {
   "display_name": "Python 3 (ipykernel)",
   "language": "python",
   "name": "python3"
  },
  "language_info": {
   "codemirror_mode": {
    "name": "ipython",
    "version": 3
   },
   "file_extension": ".py",
   "mimetype": "text/x-python",
   "name": "python",
   "nbconvert_exporter": "python",
   "pygments_lexer": "ipython3",
   "version": "3.11.5"
  }
 },
 "nbformat": 4,
 "nbformat_minor": 5
}
